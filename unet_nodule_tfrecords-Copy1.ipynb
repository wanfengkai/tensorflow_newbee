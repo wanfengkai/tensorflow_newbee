{
 "cells": [
  {
   "cell_type": "code",
   "execution_count": 13,
   "metadata": {},
   "outputs": [],
   "source": [
    "import tensorflow as tf\n",
    "import os\n",
    "os.environ[\"CUDA_DEVICE_ORDER\"]=\"PCI_BUS_ID\"\n",
    "os.environ[\"CUDA_VISIBLE_DEVICE\"]=\"1\"\n",
    "import scipy\n",
    "import csv\n",
    "import cv2\n",
    "import math\n",
    "import numpy as np\n",
    "import matplotlib.pyplot as plt\n",
    "import random\n",
    "from PIL import Image\n",
    "import SimpleITK as sitk\n",
    "\n",
    "%matplotlib inline"
   ]
  },
  {
   "cell_type": "code",
   "execution_count": 31,
   "metadata": {},
   "outputs": [],
   "source": [
    "def getROICenters(itk_image, radius):\n",
    "    itk_image = sitk.BinaryMorphologicalClosing(itk_image, radius)\n",
    "    itk_image = sitk.ConnectedComponent(itk_image,fullyConnected=True)\n",
    "    label_shape_analysis = sitk.LabelShapeStatisticsImageFilter()\n",
    "    nodules = []\n",
    "    label_shape_analysis.Execute(itk_image)\n",
    "    num_labels = label_shape_analysis.GetNumberOfLabels()\n",
    "    backg=0\n",
    "    label_shape_analysis.SetBackgroundValue(backg)\n",
    "    print(num_labels,backg)\n",
    "    for l_i in range(1, num_labels + 1):\n",
    "        center = label_shape_analysis.GetCentroid(l_i)\n",
    "        nodules.append(center)\n",
    "        print(\"Center:\", center)\n",
    "    print(\"found n nodules\", len(nodules))\n",
    "    return nodules"
   ]
  },
  {
   "cell_type": "code",
   "execution_count": null,
   "metadata": {},
   "outputs": [],
   "source": [
    "# vector index selection \n",
    "# make coordinate file for testresults \n",
    "testResultPath = '/home/fengkai/fengkai/U-net-prediction-images/predict/'\n",
    "\n",
    "import pylab\n",
    "from pylab import imshow\n",
    "import csv \n",
    "\n",
    "testResult= os.listdir(testResultPath)\n",
    "\n",
    "\n",
    "totalnumberofTest = len(testResult)\n",
    "\n",
    "split=0.6\n",
    "coordinateofTest=np.zeros((10000,3))\n",
    "count =0\n",
    "\n",
    "allcountbefore=0\n",
    "for count in range(totalnumberofTest):\n",
    "\n",
    "    fname = testResultPath+'{}.png'.format(count)\n",
    "    print(fname)\n",
    "    itk_image = sitk.ReadImage(fname)\n",
    "    itk_image = sitk.Cast(itk_image, sitk.sitkUInt64)\n",
    "    \n",
    "    slice_sitk = sitk.GetArrayFromImage(itk_image)\n",
    "    print(np.shape(slice_sitk))\n",
    "    up = np.divide(np.max(slice_sitk),1.00000)\n",
    "    slice_sitk =sitk.BinaryThreshold(slice_sitk,split,up,1,0)\n",
    "    \n",
    "    imshow(slice_sitk)\n",
    "    nodules=getROICenters(itk_image,0)\n",
    "    pylab.show()\n",
    "    labels =len(nodules)\n",
    "    la=0\n",
    "    for nodule in nodules:\n",
    "        coordinateofTest[allcountbefore+la,0]=number\n",
    "        coordinateofTest[allcountbefore+la,1]=nodules[la][0]#x \n",
    "        coordinateofTest[allcountbefore+la,2]=nodules[la][1]#y\n",
    "        la = la+1\n",
    "    \n",
    "    allcountbefore = allcountbefore+labels\n",
    "    \n",
    "\n",
    "with open('coordinateTest.txt', 'w') as f:\n",
    "\n",
    "    for n,x, y in coordinateofTest: \n",
    "        if n !=0:\n",
    "            f.write('{} {} {}\\n'.format(n,x, y))\n"
   ]
  }
 ],
 "metadata": {
  "kernelspec": {
   "display_name": "Python 3",
   "language": "python",
   "name": "python3"
  },
  "language_info": {
   "codemirror_mode": {
    "name": "ipython",
    "version": 3
   },
   "file_extension": ".py",
   "mimetype": "text/x-python",
   "name": "python",
   "nbconvert_exporter": "python",
   "pygments_lexer": "ipython3",
   "version": "3.5.2"
  }
 },
 "nbformat": 4,
 "nbformat_minor": 2
}
